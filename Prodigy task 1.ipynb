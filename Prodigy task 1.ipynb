{
 "cells": [
  {
   "cell_type": "code",
   "execution_count": 2,
   "id": "587c226d",
   "metadata": {},
   "outputs": [],
   "source": [
    "import pandas as pd\n",
    "import matplotlib.pyplot as plt\n",
    "import numpy as np\n"
   ]
  },
  {
   "cell_type": "code",
   "execution_count": 3,
   "id": "6587e622",
   "metadata": {},
   "outputs": [
    {
     "data": {
      "text/html": [
       "<div>\n",
       "<style scoped>\n",
       "    .dataframe tbody tr th:only-of-type {\n",
       "        vertical-align: middle;\n",
       "    }\n",
       "\n",
       "    .dataframe tbody tr th {\n",
       "        vertical-align: top;\n",
       "    }\n",
       "\n",
       "    .dataframe thead th {\n",
       "        text-align: right;\n",
       "    }\n",
       "</style>\n",
       "<table border=\"1\" class=\"dataframe\">\n",
       "  <thead>\n",
       "    <tr style=\"text-align: right;\">\n",
       "      <th></th>\n",
       "      <th>Country Code</th>\n",
       "      <th>Region</th>\n",
       "      <th>IncomeGroup</th>\n",
       "      <th>SpecialNotes</th>\n",
       "      <th>TableName</th>\n",
       "      <th>Unnamed: 5</th>\n",
       "    </tr>\n",
       "  </thead>\n",
       "  <tbody>\n",
       "    <tr>\n",
       "      <th>0</th>\n",
       "      <td>ABW</td>\n",
       "      <td>Latin America &amp; Caribbean</td>\n",
       "      <td>High income</td>\n",
       "      <td>NaN</td>\n",
       "      <td>Aruba</td>\n",
       "      <td>NaN</td>\n",
       "    </tr>\n",
       "    <tr>\n",
       "      <th>1</th>\n",
       "      <td>AFE</td>\n",
       "      <td>NaN</td>\n",
       "      <td>NaN</td>\n",
       "      <td>26 countries, stretching from the Red Sea in t...</td>\n",
       "      <td>Africa Eastern and Southern</td>\n",
       "      <td>NaN</td>\n",
       "    </tr>\n",
       "    <tr>\n",
       "      <th>2</th>\n",
       "      <td>AFG</td>\n",
       "      <td>South Asia</td>\n",
       "      <td>Low income</td>\n",
       "      <td>The reporting period for national accounts dat...</td>\n",
       "      <td>Afghanistan</td>\n",
       "      <td>NaN</td>\n",
       "    </tr>\n",
       "    <tr>\n",
       "      <th>3</th>\n",
       "      <td>AFW</td>\n",
       "      <td>NaN</td>\n",
       "      <td>NaN</td>\n",
       "      <td>22 countries, stretching from the westernmost ...</td>\n",
       "      <td>Africa Western and Central</td>\n",
       "      <td>NaN</td>\n",
       "    </tr>\n",
       "    <tr>\n",
       "      <th>4</th>\n",
       "      <td>AGO</td>\n",
       "      <td>Sub-Saharan Africa</td>\n",
       "      <td>Lower middle income</td>\n",
       "      <td>The World Bank systematically assesses the app...</td>\n",
       "      <td>Angola</td>\n",
       "      <td>NaN</td>\n",
       "    </tr>\n",
       "  </tbody>\n",
       "</table>\n",
       "</div>"
      ],
      "text/plain": [
       "  Country Code                     Region          IncomeGroup   \n",
       "0          ABW  Latin America & Caribbean          High income  \\\n",
       "1          AFE                        NaN                  NaN   \n",
       "2          AFG                 South Asia           Low income   \n",
       "3          AFW                        NaN                  NaN   \n",
       "4          AGO         Sub-Saharan Africa  Lower middle income   \n",
       "\n",
       "                                        SpecialNotes   \n",
       "0                                                NaN  \\\n",
       "1  26 countries, stretching from the Red Sea in t...   \n",
       "2  The reporting period for national accounts dat...   \n",
       "3  22 countries, stretching from the westernmost ...   \n",
       "4  The World Bank systematically assesses the app...   \n",
       "\n",
       "                     TableName  Unnamed: 5  \n",
       "0                        Aruba         NaN  \n",
       "1  Africa Eastern and Southern         NaN  \n",
       "2                  Afghanistan         NaN  \n",
       "3   Africa Western and Central         NaN  \n",
       "4                       Angola         NaN  "
      ]
     },
     "execution_count": 3,
     "metadata": {},
     "output_type": "execute_result"
    }
   ],
   "source": [
    "df = pd.read_csv(\"C:/Users/RadhikaGupta/Downloads/world_population.csv\")\n",
    "df.head()"
   ]
  },
  {
   "cell_type": "code",
   "execution_count": 6,
   "id": "44000cfd",
   "metadata": {},
   "outputs": [
    {
     "name": "stdout",
     "output_type": "stream",
     "text": [
      "    Country Code                      Region          IncomeGroup   \n",
      "0            ABW   Latin America & Caribbean          High income  \\\n",
      "1            AFE                         NaN                  NaN   \n",
      "2            AFG                  South Asia           Low income   \n",
      "3            AFW                         NaN                  NaN   \n",
      "4            AGO          Sub-Saharan Africa  Lower middle income   \n",
      "..           ...                         ...                  ...   \n",
      "260          XKX       Europe & Central Asia  Upper middle income   \n",
      "261          YEM  Middle East & North Africa           Low income   \n",
      "262          ZAF          Sub-Saharan Africa  Upper middle income   \n",
      "263          ZMB          Sub-Saharan Africa  Lower middle income   \n",
      "264          ZWE          Sub-Saharan Africa  Lower middle income   \n",
      "\n",
      "                                          SpecialNotes   \n",
      "0                                                  NaN  \\\n",
      "1    26 countries, stretching from the Red Sea in t...   \n",
      "2    The reporting period for national accounts dat...   \n",
      "3    22 countries, stretching from the westernmost ...   \n",
      "4    The World Bank systematically assesses the app...   \n",
      "..                                                 ...   \n",
      "260                                                NaN   \n",
      "261  The World Bank systematically assesses the app...   \n",
      "262  Fiscal year end: March 31; reporting period fo...   \n",
      "263  National accounts data were rebased to reflect...   \n",
      "264  National Accounts data are reported in Zimbabw...   \n",
      "\n",
      "                       TableName  Unnamed: 5  \n",
      "0                          Aruba         NaN  \n",
      "1    Africa Eastern and Southern         NaN  \n",
      "2                    Afghanistan         NaN  \n",
      "3     Africa Western and Central         NaN  \n",
      "4                         Angola         NaN  \n",
      "..                           ...         ...  \n",
      "260                       Kosovo         NaN  \n",
      "261                  Yemen, Rep.         NaN  \n",
      "262                 South Africa         NaN  \n",
      "263                       Zambia         NaN  \n",
      "264                     Zimbabwe         NaN  \n",
      "\n",
      "[265 rows x 6 columns]\n"
     ]
    },
    {
     "data": {
      "text/plain": [
       "<Figure size 640x480 with 0 Axes>"
      ]
     },
     "metadata": {},
     "output_type": "display_data"
    }
   ],
   "source": [
    "#plotting graph\n",
    "import matplotlib.pyplot as plt\n",
    "import pandas as pd\n",
    "df=pd.read_csv(\"C:/Users/RadhikaGupta/Downloads/world_population.csv\")\n",
    "print(df)\n",
    "data=pd.DataFrame(df)\n",
    "fig=plt.figure()"
   ]
  },
  {
   "cell_type": "code",
   "execution_count": 8,
   "id": "6fee5dbe",
   "metadata": {},
   "outputs": [
    {
     "name": "stdout",
     "output_type": "stream",
     "text": [
      "    Country Code                      Region          IncomeGroup   \n",
      "0            ABW   Latin America & Caribbean          High income  \\\n",
      "1            AFE                         NaN                  NaN   \n",
      "2            AFG                  South Asia           Low income   \n",
      "3            AFW                         NaN                  NaN   \n",
      "4            AGO          Sub-Saharan Africa  Lower middle income   \n",
      "..           ...                         ...                  ...   \n",
      "260          XKX       Europe & Central Asia  Upper middle income   \n",
      "261          YEM  Middle East & North Africa           Low income   \n",
      "262          ZAF          Sub-Saharan Africa  Upper middle income   \n",
      "263          ZMB          Sub-Saharan Africa  Lower middle income   \n",
      "264          ZWE          Sub-Saharan Africa  Lower middle income   \n",
      "\n",
      "                                          SpecialNotes   \n",
      "0                                                  NaN  \\\n",
      "1    26 countries, stretching from the Red Sea in t...   \n",
      "2    The reporting period for national accounts dat...   \n",
      "3    22 countries, stretching from the westernmost ...   \n",
      "4    The World Bank systematically assesses the app...   \n",
      "..                                                 ...   \n",
      "260                                                NaN   \n",
      "261  The World Bank systematically assesses the app...   \n",
      "262  Fiscal year end: March 31; reporting period fo...   \n",
      "263  National accounts data were rebased to reflect...   \n",
      "264  National Accounts data are reported in Zimbabw...   \n",
      "\n",
      "                       TableName  Unnamed: 5  \n",
      "0                          Aruba         NaN  \n",
      "1    Africa Eastern and Southern         NaN  \n",
      "2                    Afghanistan         NaN  \n",
      "3     Africa Western and Central         NaN  \n",
      "4                         Angola         NaN  \n",
      "..                           ...         ...  \n",
      "260                       Kosovo         NaN  \n",
      "261                  Yemen, Rep.         NaN  \n",
      "262                 South Africa         NaN  \n",
      "263                       Zambia         NaN  \n",
      "264                     Zimbabwe         NaN  \n",
      "\n",
      "[265 rows x 6 columns]\n"
     ]
    },
    {
     "data": {
      "image/png": "[encoded data removed]",
      "text/plain": [
       "<Figure size 640x480 with 1 Axes>"
      ]
     },
     "metadata": {},
     "output_type": "display_data"
    }
   ],
   "source": [
    "#plotting graph\n",
    "import matplotlib.pyplot as plt\n",
    "import pandas as pd\n",
    "df=pd.read_csv(\"C:/Users/RadhikaGupta/Downloads/world_population.csv\")\n",
    "print(df)\n",
    "data=pd.DataFrame(df)\n",
    "fig=plt.figure()\n",
    "ax=fig.add_axes([0,0,0.5,0.5])\n",
    "x=list(data.iloc[:0])\n",
    "y=list(data.iloc[:1])\n",
    "ax.bar(x,y,color='b')\n",
    "plt.show()"
   ]
  },
  {
   "cell_type": "code",
   "execution_count": 9,
   "id": "bccd9600",
   "metadata": {},
   "outputs": [
    {
     "data": {
      "text/plain": [
       "Text(0.5, 1.0, 'world_population')"
      ]
     },
     "execution_count": 9,
     "metadata": {},
     "output_type": "execute_result"
    },
    {
     "data": {
      "image/png": "[encoded data removed]",
      "text/plain": [
       "<Figure size 640x480 with 1 Axes>"
      ]
     },
     "metadata": {},
     "output_type": "display_data"
    }
   ],
   "source": [
    "#histogram\n",
    "import random as rd\n",
    "import numpy as np\n",
    "x = np.random.normal(size=1000)\n",
    "plt.hist(x, density=True, bins=30)\n",
    "plt.xlabel(\"population\")\n",
    "plt.ylabel(\"Rank\")\n",
    "plt.title(\"world_population\")"
   ]
  },
  {
   "cell_type": "code",
   "execution_count": null,
   "id": "bc72af6b",
   "metadata": {},
   "outputs": [],
   "source": []
  }
 ],
 "metadata": {
  "kernelspec": {
   "display_name": "Python 3 (ipykernel)",
   "language": "python",
   "name": "python3"
  },
  "language_info": {
   "codemirror_mode": {
    "name": "ipython",
    "version": 3
   },
   "file_extension": ".py",
   "mimetype": "text/x-python",
   "name": "python",
   "nbconvert_exporter": "python",
   "pygments_lexer": "ipython3",
   "version": "3.10.6"
  }
 },
 "nbformat": 4,
 "nbformat_minor": 5
}
